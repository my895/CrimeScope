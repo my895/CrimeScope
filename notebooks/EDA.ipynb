# This notebook will contain exploratory data analysis code
import pandas as pd
import matplotlib.pyplot as plt

# Load data
df = pd.read_csv('../data/crimes.csv')

# Basic statistics
print(df.describe())

# Visualization
df['description'].value_counts().plot(kind='bar')
plt.title('Crime Types')
plt.show()
